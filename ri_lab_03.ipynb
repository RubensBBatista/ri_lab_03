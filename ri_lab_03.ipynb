{
 "cells": [
  {
   "cell_type": "code",
   "execution_count": 57,
   "metadata": {
    "colab": {
     "base_uri": "https://localhost:8080/",
     "height": 51
    },
    "colab_type": "code",
    "id": "VUkt-55BaPRX",
    "outputId": "7e4d0734-e11f-4bef-d64e-72adbbdd4597"
   },
   "outputs": [
    {
     "name": "stderr",
     "output_type": "stream",
     "text": [
      "[nltk_data] Downloading package stopwords to\n",
      "[nltk_data]     C:\\Users\\rubens.sousa\\AppData\\Roaming\\nltk_data...\n",
      "[nltk_data]   Package stopwords is already up-to-date!\n"
     ]
    }
   ],
   "source": [
    "import pandas as panda\n",
    "import re\n",
    "import nltk\n",
    "from nltk.tokenize import RegexpTokenizer\n",
    "from collections import Counter\n",
    "import matplotlib.pyplot as plot\n",
    "import seaborn as sea\n",
    "\n",
    "nltk.download('stopwords')\n",
    "result = panda.read_csv('results.csv')"
   ]
  },
  {
   "cell_type": "markdown",
   "metadata": {
    "colab_type": "text",
    "id": "6LTLaTRvaZI6"
   },
   "source": [
    "### 1. Escolha uma estratégia de tokenização para a coleção que você está usando e justifique sua estratégia. É importante que você inclua decisões adicionais em relação ao que foi feito no Laboratório anterior (por exemplo, tratamento de maiúsculas/minúsculas e strings numéricas)"
   ]
  },
  {
   "cell_type": "code",
   "execution_count": 58,
   "metadata": {
    "colab": {},
    "colab_type": "code",
    "id": "DMTx_yHJaeCf"
   },
   "outputs": [],
   "source": [
    "palavras = []\n",
    "palavras_filtradas = []\n",
    "\n",
    "tokenz = RegexpTokenizer(r'([A-Za-zÁáÉéÍíÓóÚúÃãÕõÇçÂâÊê]{3,27})')\n",
    "stopwords = nltk.corpus.stopwords.words('portuguese')\n",
    "\n",
    "for texto in result.text:\n",
    "   words = [palavra for palavra in tokenz.tokenize(texto.lower())\n",
    "           if not bool(re.search(r'\\d', palavra))]\n",
    "   palavras.extend(words)\n",
    "\n",
    "palavras_filtradas = [palavra for palavra in palavras if palavra not in stopwords and len(palavra) >= 3]"
   ]
  },
  {
   "cell_type": "code",
   "execution_count": 59,
   "metadata": {
    "colab": {
     "base_uri": "https://localhost:8080/",
     "height": 51
    },
    "colab_type": "code",
    "id": "Ku0J6ACiWTBj",
    "outputId": "452db81e-fe35-434e-fee1-a309be74ed5e",
    "scrolled": true
   },
   "outputs": [
    {
     "name": "stdout",
     "output_type": "stream",
     "text": [
      "Sem a filtragem de stopwords: 28546\n",
      "Com a filtragem de stopwords: 22343\n"
     ]
    }
   ],
   "source": [
    "print(\"Sem a filtragem de stopwords:\", len(palavras))\n",
    "print(\"Com a filtragem de stopwords:\", len(palavras_filtradas))"
   ]
  },
  {
   "cell_type": "markdown",
   "metadata": {
    "colab_type": "text",
    "id": "_k30o6inh7lC"
   },
   "source": [
    "Foi feita a estratégia em que tokenizamos o csv do lab 01 utilizando o tokenizador que foi disponibilizado pela lib nltk, por meio de um regex. Trata-se todas as palavras com letras minúsculas e remove-se as palavras sem muito contexto do conjunto stopwords."
   ]
  },
  {
   "cell_type": "markdown",
   "metadata": {
    "colab_type": "text",
    "id": "YvK8twLNa2Yp"
   },
   "source": [
    "### 2. Refaça a questão 2 do Laboratório anterior usando os tokens produzidos "
   ]
  },
  {
   "cell_type": "code",
   "execution_count": 60,
   "metadata": {
    "colab": {},
    "colab_type": "code",
    "id": "6O4btAfFjtyw"
   },
   "outputs": [],
   "source": [
    "ocorrencia_total_palavras = len(palavras_filtradas)\n",
    "frequencia_de_palavras = {}\n",
    "frequencia_de_palavras = Counter(palavras_filtradas)"
   ]
  },
  {
   "cell_type": "code",
   "execution_count": 61,
   "metadata": {
    "colab": {
     "base_uri": "https://localhost:8080/",
     "height": 1630
    },
    "colab_type": "code",
    "id": "d4mb13GNa4Pi",
    "outputId": "64ced7ce-f92d-4afc-8077-2fad1a95f766",
    "scrolled": false
   },
   "outputs": [
    {
     "data": {
      "text/html": [
       "<div>\n",
       "<style scoped>\n",
       "    .dataframe tbody tr th:only-of-type {\n",
       "        vertical-align: middle;\n",
       "    }\n",
       "\n",
       "    .dataframe tbody tr th {\n",
       "        vertical-align: top;\n",
       "    }\n",
       "\n",
       "    .dataframe thead th {\n",
       "        text-align: right;\n",
       "    }\n",
       "</style>\n",
       "<table border=\"1\" class=\"dataframe\">\n",
       "  <thead>\n",
       "    <tr style=\"text-align: right;\">\n",
       "      <th></th>\n",
       "      <th>Word</th>\n",
       "      <th>Frequency</th>\n",
       "      <th>Pr(%)</th>\n",
       "      <th>r.Pr</th>\n",
       "    </tr>\n",
       "    <tr>\n",
       "      <th>r</th>\n",
       "      <th></th>\n",
       "      <th></th>\n",
       "      <th></th>\n",
       "      <th></th>\n",
       "    </tr>\n",
       "  </thead>\n",
       "  <tbody>\n",
       "    <tr>\n",
       "      <th>1</th>\n",
       "      <td>presidente</td>\n",
       "      <td>219</td>\n",
       "      <td>0.98</td>\n",
       "      <td>0.010</td>\n",
       "    </tr>\n",
       "    <tr>\n",
       "      <th>2</th>\n",
       "      <td>lula</td>\n",
       "      <td>197</td>\n",
       "      <td>0.88</td>\n",
       "      <td>0.018</td>\n",
       "    </tr>\n",
       "    <tr>\n",
       "      <th>3</th>\n",
       "      <td>bolsonaro</td>\n",
       "      <td>173</td>\n",
       "      <td>0.77</td>\n",
       "      <td>0.023</td>\n",
       "    </tr>\n",
       "    <tr>\n",
       "      <th>4</th>\n",
       "      <td>brasil</td>\n",
       "      <td>153</td>\n",
       "      <td>0.68</td>\n",
       "      <td>0.027</td>\n",
       "    </tr>\n",
       "    <tr>\n",
       "      <th>5</th>\n",
       "      <td>disse</td>\n",
       "      <td>128</td>\n",
       "      <td>0.57</td>\n",
       "      <td>0.028</td>\n",
       "    </tr>\n",
       "    <tr>\n",
       "      <th>6</th>\n",
       "      <td>governo</td>\n",
       "      <td>125</td>\n",
       "      <td>0.56</td>\n",
       "      <td>0.034</td>\n",
       "    </tr>\n",
       "    <tr>\n",
       "      <th>7</th>\n",
       "      <td>feira</td>\n",
       "      <td>86</td>\n",
       "      <td>0.38</td>\n",
       "      <td>0.027</td>\n",
       "    </tr>\n",
       "    <tr>\n",
       "      <th>8</th>\n",
       "      <td>ser</td>\n",
       "      <td>85</td>\n",
       "      <td>0.38</td>\n",
       "      <td>0.030</td>\n",
       "    </tr>\n",
       "    <tr>\n",
       "      <th>9</th>\n",
       "      <td>sobre</td>\n",
       "      <td>81</td>\n",
       "      <td>0.36</td>\n",
       "      <td>0.032</td>\n",
       "    </tr>\n",
       "    <tr>\n",
       "      <th>10</th>\n",
       "      <td>ano</td>\n",
       "      <td>79</td>\n",
       "      <td>0.35</td>\n",
       "      <td>0.035</td>\n",
       "    </tr>\n",
       "    <tr>\n",
       "      <th>11</th>\n",
       "      <td>segundo</td>\n",
       "      <td>77</td>\n",
       "      <td>0.34</td>\n",
       "      <td>0.037</td>\n",
       "    </tr>\n",
       "    <tr>\n",
       "      <th>12</th>\n",
       "      <td>paulo</td>\n",
       "      <td>77</td>\n",
       "      <td>0.34</td>\n",
       "      <td>0.041</td>\n",
       "    </tr>\n",
       "    <tr>\n",
       "      <th>13</th>\n",
       "      <td>contra</td>\n",
       "      <td>72</td>\n",
       "      <td>0.32</td>\n",
       "      <td>0.042</td>\n",
       "    </tr>\n",
       "    <tr>\n",
       "      <th>14</th>\n",
       "      <td>ministro</td>\n",
       "      <td>71</td>\n",
       "      <td>0.32</td>\n",
       "      <td>0.045</td>\n",
       "    </tr>\n",
       "    <tr>\n",
       "      <th>15</th>\n",
       "      <td>afirmou</td>\n",
       "      <td>69</td>\n",
       "      <td>0.31</td>\n",
       "      <td>0.046</td>\n",
       "    </tr>\n",
       "    <tr>\n",
       "      <th>16</th>\n",
       "      <td>jair</td>\n",
       "      <td>68</td>\n",
       "      <td>0.30</td>\n",
       "      <td>0.048</td>\n",
       "    </tr>\n",
       "    <tr>\n",
       "      <th>17</th>\n",
       "      <td>federal</td>\n",
       "      <td>65</td>\n",
       "      <td>0.29</td>\n",
       "      <td>0.049</td>\n",
       "    </tr>\n",
       "    <tr>\n",
       "      <th>18</th>\n",
       "      <td>país</td>\n",
       "      <td>63</td>\n",
       "      <td>0.28</td>\n",
       "      <td>0.050</td>\n",
       "    </tr>\n",
       "    <tr>\n",
       "      <th>19</th>\n",
       "      <td>nesta</td>\n",
       "      <td>59</td>\n",
       "      <td>0.26</td>\n",
       "      <td>0.049</td>\n",
       "    </tr>\n",
       "    <tr>\n",
       "      <th>20</th>\n",
       "      <td>março</td>\n",
       "      <td>58</td>\n",
       "      <td>0.26</td>\n",
       "      <td>0.052</td>\n",
       "    </tr>\n",
       "    <tr>\n",
       "      <th>21</th>\n",
       "      <td>política</td>\n",
       "      <td>55</td>\n",
       "      <td>0.25</td>\n",
       "      <td>0.052</td>\n",
       "    </tr>\n",
       "    <tr>\n",
       "      <th>22</th>\n",
       "      <td>vai</td>\n",
       "      <td>55</td>\n",
       "      <td>0.25</td>\n",
       "      <td>0.055</td>\n",
       "    </tr>\n",
       "    <tr>\n",
       "      <th>23</th>\n",
       "      <td>justiça</td>\n",
       "      <td>53</td>\n",
       "      <td>0.24</td>\n",
       "      <td>0.055</td>\n",
       "    </tr>\n",
       "    <tr>\n",
       "      <th>24</th>\n",
       "      <td>pessoas</td>\n",
       "      <td>50</td>\n",
       "      <td>0.22</td>\n",
       "      <td>0.053</td>\n",
       "    </tr>\n",
       "    <tr>\n",
       "      <th>25</th>\n",
       "      <td>prisão</td>\n",
       "      <td>48</td>\n",
       "      <td>0.21</td>\n",
       "      <td>0.052</td>\n",
       "    </tr>\n",
       "    <tr>\n",
       "      <th>26</th>\n",
       "      <td>acordo</td>\n",
       "      <td>47</td>\n",
       "      <td>0.21</td>\n",
       "      <td>0.055</td>\n",
       "    </tr>\n",
       "    <tr>\n",
       "      <th>27</th>\n",
       "      <td>desde</td>\n",
       "      <td>47</td>\n",
       "      <td>0.21</td>\n",
       "      <td>0.057</td>\n",
       "    </tr>\n",
       "    <tr>\n",
       "      <th>28</th>\n",
       "      <td>ter</td>\n",
       "      <td>46</td>\n",
       "      <td>0.21</td>\n",
       "      <td>0.059</td>\n",
       "    </tr>\n",
       "    <tr>\n",
       "      <th>29</th>\n",
       "      <td>anos</td>\n",
       "      <td>46</td>\n",
       "      <td>0.21</td>\n",
       "      <td>0.061</td>\n",
       "    </tr>\n",
       "    <tr>\n",
       "      <th>30</th>\n",
       "      <td>dias</td>\n",
       "      <td>44</td>\n",
       "      <td>0.20</td>\n",
       "      <td>0.060</td>\n",
       "    </tr>\n",
       "    <tr>\n",
       "      <th>31</th>\n",
       "      <td>reforma</td>\n",
       "      <td>44</td>\n",
       "      <td>0.20</td>\n",
       "      <td>0.062</td>\n",
       "    </tr>\n",
       "    <tr>\n",
       "      <th>32</th>\n",
       "      <td>carta</td>\n",
       "      <td>44</td>\n",
       "      <td>0.20</td>\n",
       "      <td>0.064</td>\n",
       "    </tr>\n",
       "    <tr>\n",
       "      <th>33</th>\n",
       "      <td>nacional</td>\n",
       "      <td>43</td>\n",
       "      <td>0.19</td>\n",
       "      <td>0.063</td>\n",
       "    </tr>\n",
       "    <tr>\n",
       "      <th>34</th>\n",
       "      <td>após</td>\n",
       "      <td>42</td>\n",
       "      <td>0.19</td>\n",
       "      <td>0.065</td>\n",
       "    </tr>\n",
       "    <tr>\n",
       "      <th>35</th>\n",
       "      <td>twitter</td>\n",
       "      <td>42</td>\n",
       "      <td>0.19</td>\n",
       "      <td>0.066</td>\n",
       "    </tr>\n",
       "    <tr>\n",
       "      <th>36</th>\n",
       "      <td>defesa</td>\n",
       "      <td>41</td>\n",
       "      <td>0.18</td>\n",
       "      <td>0.065</td>\n",
       "    </tr>\n",
       "    <tr>\n",
       "      <th>37</th>\n",
       "      <td>partido</td>\n",
       "      <td>41</td>\n",
       "      <td>0.18</td>\n",
       "      <td>0.067</td>\n",
       "    </tr>\n",
       "    <tr>\n",
       "      <th>38</th>\n",
       "      <td>hoje</td>\n",
       "      <td>41</td>\n",
       "      <td>0.18</td>\n",
       "      <td>0.068</td>\n",
       "    </tr>\n",
       "    <tr>\n",
       "      <th>39</th>\n",
       "      <td>preso</td>\n",
       "      <td>40</td>\n",
       "      <td>0.18</td>\n",
       "      <td>0.070</td>\n",
       "    </tr>\n",
       "    <tr>\n",
       "      <th>40</th>\n",
       "      <td>rio</td>\n",
       "      <td>40</td>\n",
       "      <td>0.18</td>\n",
       "      <td>0.072</td>\n",
       "    </tr>\n",
       "    <tr>\n",
       "      <th>41</th>\n",
       "      <td>haddad</td>\n",
       "      <td>40</td>\n",
       "      <td>0.18</td>\n",
       "      <td>0.074</td>\n",
       "    </tr>\n",
       "    <tr>\n",
       "      <th>42</th>\n",
       "      <td>diz</td>\n",
       "      <td>39</td>\n",
       "      <td>0.17</td>\n",
       "      <td>0.071</td>\n",
       "    </tr>\n",
       "    <tr>\n",
       "      <th>43</th>\n",
       "      <td>ainda</td>\n",
       "      <td>39</td>\n",
       "      <td>0.17</td>\n",
       "      <td>0.073</td>\n",
       "    </tr>\n",
       "    <tr>\n",
       "      <th>44</th>\n",
       "      <td>maior</td>\n",
       "      <td>39</td>\n",
       "      <td>0.17</td>\n",
       "      <td>0.075</td>\n",
       "    </tr>\n",
       "    <tr>\n",
       "      <th>45</th>\n",
       "      <td>porque</td>\n",
       "      <td>38</td>\n",
       "      <td>0.17</td>\n",
       "      <td>0.077</td>\n",
       "    </tr>\n",
       "    <tr>\n",
       "      <th>46</th>\n",
       "      <td>livre</td>\n",
       "      <td>38</td>\n",
       "      <td>0.17</td>\n",
       "      <td>0.078</td>\n",
       "    </tr>\n",
       "    <tr>\n",
       "      <th>47</th>\n",
       "      <td>moro</td>\n",
       "      <td>37</td>\n",
       "      <td>0.17</td>\n",
       "      <td>0.080</td>\n",
       "    </tr>\n",
       "    <tr>\n",
       "      <th>48</th>\n",
       "      <td>unidos</td>\n",
       "      <td>36</td>\n",
       "      <td>0.16</td>\n",
       "      <td>0.077</td>\n",
       "    </tr>\n",
       "    <tr>\n",
       "      <th>49</th>\n",
       "      <td>estado</td>\n",
       "      <td>36</td>\n",
       "      <td>0.16</td>\n",
       "      <td>0.078</td>\n",
       "    </tr>\n",
       "    <tr>\n",
       "      <th>50</th>\n",
       "      <td>dia</td>\n",
       "      <td>36</td>\n",
       "      <td>0.16</td>\n",
       "      <td>0.080</td>\n",
       "    </tr>\n",
       "  </tbody>\n",
       "</table>\n",
       "</div>"
      ],
      "text/plain": [
       "          Word  Frequency  Pr(%)   r.Pr\n",
       "r                                      \n",
       "1   presidente        219   0.98  0.010\n",
       "2         lula        197   0.88  0.018\n",
       "3    bolsonaro        173   0.77  0.023\n",
       "4       brasil        153   0.68  0.027\n",
       "5        disse        128   0.57  0.028\n",
       "6      governo        125   0.56  0.034\n",
       "7        feira         86   0.38  0.027\n",
       "8          ser         85   0.38  0.030\n",
       "9        sobre         81   0.36  0.032\n",
       "10         ano         79   0.35  0.035\n",
       "11     segundo         77   0.34  0.037\n",
       "12       paulo         77   0.34  0.041\n",
       "13      contra         72   0.32  0.042\n",
       "14    ministro         71   0.32  0.045\n",
       "15     afirmou         69   0.31  0.046\n",
       "16        jair         68   0.30  0.048\n",
       "17     federal         65   0.29  0.049\n",
       "18        país         63   0.28  0.050\n",
       "19       nesta         59   0.26  0.049\n",
       "20       março         58   0.26  0.052\n",
       "21    política         55   0.25  0.052\n",
       "22         vai         55   0.25  0.055\n",
       "23     justiça         53   0.24  0.055\n",
       "24     pessoas         50   0.22  0.053\n",
       "25      prisão         48   0.21  0.052\n",
       "26      acordo         47   0.21  0.055\n",
       "27       desde         47   0.21  0.057\n",
       "28         ter         46   0.21  0.059\n",
       "29        anos         46   0.21  0.061\n",
       "30        dias         44   0.20  0.060\n",
       "31     reforma         44   0.20  0.062\n",
       "32       carta         44   0.20  0.064\n",
       "33    nacional         43   0.19  0.063\n",
       "34        após         42   0.19  0.065\n",
       "35     twitter         42   0.19  0.066\n",
       "36      defesa         41   0.18  0.065\n",
       "37     partido         41   0.18  0.067\n",
       "38        hoje         41   0.18  0.068\n",
       "39       preso         40   0.18  0.070\n",
       "40         rio         40   0.18  0.072\n",
       "41      haddad         40   0.18  0.074\n",
       "42         diz         39   0.17  0.071\n",
       "43       ainda         39   0.17  0.073\n",
       "44       maior         39   0.17  0.075\n",
       "45      porque         38   0.17  0.077\n",
       "46       livre         38   0.17  0.078\n",
       "47        moro         37   0.17  0.080\n",
       "48      unidos         36   0.16  0.077\n",
       "49      estado         36   0.16  0.078\n",
       "50         dia         36   0.16  0.080"
      ]
     },
     "execution_count": 61,
     "metadata": {},
     "output_type": "execute_result"
    }
   ],
   "source": [
    "top_palavras = frequencia_de_palavras.most_common(50)\n",
    "\n",
    "tabela_de_top_50 = panda.DataFrame(columns = ['Word', 'Frequency', 'r', 'Pr(%)', 'r.Pr'])\n",
    "\n",
    "tabela_de_top_50['Word'] = [word[0] for word in top_palavras]\n",
    "tabela_de_top_50['Frequency'] = [word[1] for word in top_palavras]\n",
    "tabela_de_top_50['r'] = [rank+1 for rank in range(0, len(top_palavras))]\n",
    "tabela_de_top_50['Pr(%)'] = [round((word[1] / ocorrencia_total_palavras)*100, 2) for word in top_palavras]\n",
    "tabela_de_top_50['r.Pr'] = round((tabela_de_top_50['Pr(%)']/100)*tabela_de_top_50['r'], 3)\n",
    "\n",
    "tabela = tabela_de_top_50.set_index('r')\n",
    "tabela"
   ]
  },
  {
   "cell_type": "markdown",
   "metadata": {
    "colab_type": "text",
    "id": "r2owdLtpa4j0"
   },
   "source": [
    "### 3. Aplique Stemming nos tokens produzidos e encontre 10 exemplos de falsos positivos e 10 exemplos de falsos negativos. Que impacto você acha que falsos positivos e negativos, como esses, teriam no processamento de consultas? Dê exemplos."
   ]
  },
  {
   "cell_type": "code",
   "execution_count": 62,
   "metadata": {
    "colab": {
     "base_uri": "https://localhost:8080/",
     "height": 51
    },
    "colab_type": "code",
    "id": "ShHX-Pmaa4vI",
    "outputId": "997e8b97-9b46-489a-dc67-800d481c5511"
   },
   "outputs": [
    {
     "name": "stdout",
     "output_type": "stream",
     "text": [
      "Quantidade palavras distintas sem Stemming: 6609\n",
      "Quantidade palavras distintas com Stemming: 4106\n"
     ]
    }
   ],
   "source": [
    "palavras_aumentadas = []\n",
    "stemmer = nltk.stem.SnowballStemmer('portuguese')\n",
    "\n",
    "palavras_aumentadas = [stemmer.stem(word) for word in palavras_filtradas]\n",
    "\n",
    "set_stem = sorted(set(palavras_aumentadas))\n",
    "set_words = sorted(set(palavras_filtradas))\n",
    "\n",
    "print(\"Quantidade palavras distintas sem Stemming:\",len(set_words))\n",
    "print(\"Quantidade palavras distintas com Stemming:\",len(set_stem))"
   ]
  },
  {
   "cell_type": "markdown",
   "metadata": {
    "colab_type": "text",
    "id": "P2prd1asieW7"
   },
   "source": []
  },
  {
   "cell_type": "markdown",
   "metadata": {
    "colab_type": "text",
    "id": "RfsZwMOma5TO"
   },
   "source": [
    "### 4. Refaça a questão 3 do Laboratório anterior usando os tokens stemizados. Você percebeu alguma diferença em relação aos tokens sem stemming? Se sim, quais?"
   ]
  },
  {
   "cell_type": "code",
   "execution_count": 63,
   "metadata": {
    "colab": {},
    "colab_type": "code",
    "id": "UBlHAw4Pa5b_"
   },
   "outputs": [],
   "source": [
    "total_hasteado_palavra_ocorridas = len(palavras_aumentadas)\n",
    "frequencia_palavras_hasteadas = {}\n",
    "frequencia_palavras_hasteadas = Counter(palavras_aumentadas)\n",
    "\n",
    "top_palavras_hasteadas = frequencia_palavras_hasteadas.most_common(50)\n",
    "\n",
    "tabela_top_50_hasteadas = panda.DataFrame(columns = ['Word', 'Frequency', 'r', 'Pr(%)', 'r.Pr'])\n",
    "\n",
    "tabela_top_50_hasteadas['Word'] = [word[0] for word in top_palavras_hasteadas]\n",
    "tabela_top_50_hasteadas['Frequency'] = [word[1] for word in top_palavras_hasteadas]\n",
    "tabela_top_50_hasteadas['r'] = [rank+1 for rank in range(0, len(top_palavras_hasteadas))]\n",
    "tabela_top_50_hasteadas['Pr(%)'] = [round((word[1] / total_hasteado_palavra_ocorridas)*100, 2) for word in top_palavras_hasteadas]\n",
    "tabela_top_50_hasteadas['r.Pr'] = round((tabela_top_50_hasteadas['Pr(%)']/100)*tabela_top_50_hasteadas['r'], 3)"
   ]
  },
  {
   "cell_type": "code",
   "execution_count": 64,
   "metadata": {
    "colab": {
     "base_uri": "https://localhost:8080/",
     "height": 467
    },
    "colab_type": "code",
    "id": "xB6Y-l-cqMPx",
    "outputId": "f9057927-1efd-4ae0-92df-57873bee997d"
   },
   "outputs": [
    {
     "data": {
      "text/plain": [
       "<matplotlib.axes._subplots.AxesSubplot at 0x255c4582fd0>"
      ]
     },
     "execution_count": 64,
     "metadata": {},
     "output_type": "execute_result"
    },
    {
     "data": {
      "image/png": "[encoded data removed]",
      "text/plain": [
       "<Figure size 504x504 with 1 Axes>"
      ]
     },
     "metadata": {
      "needs_background": "light"
     },
     "output_type": "display_data"
    }
   ],
   "source": [
    "f, ax = plot.subplots(figsize=(7, 7))\n",
    "ax.set(xscale=\"log\", yscale=\"log\")\n",
    "sea.regplot(\"r\", \"Frequency\", tabela_top_50_hasteadas, ax=ax, marker=\"*\", scatter_kws={\"s\": 100}, fit_reg = False, color = '#FF8C00')"
   ]
  },
  {
   "cell_type": "markdown",
   "metadata": {
    "colab_type": "text",
    "id": "PJ4eSifaoHLv"
   },
   "source": [
    "Por causa do agrupamento feito nas palavras a partir dos seus radicais, foi possível notar maior linearidade na disposição dos tokens no gráfico, em relação ao lab anterior."
   ]
  },
  {
   "cell_type": "code",
   "execution_count": 65,
   "metadata": {
    "colab": {
     "base_uri": "https://localhost:8080/",
     "height": 467
    },
    "colab_type": "code",
    "id": "XQTjF5RtqUhh",
    "outputId": "414621b4-505a-43de-bbaf-24c8f3a388e8",
    "scrolled": false
   },
   "outputs": [
    {
     "data": {
      "text/plain": [
       "<matplotlib.axes._subplots.AxesSubplot at 0x255c5d56e48>"
      ]
     },
     "execution_count": 65,
     "metadata": {},
     "output_type": "execute_result"
    },
    {
     "data": {
      "image/png": "[encoded data removed]",
      "text/plain": [
       "<Figure size 504x504 with 1 Axes>"
      ]
     },
     "metadata": {
      "needs_background": "light"
     },
     "output_type": "display_data"
    }
   ],
   "source": [
    "bigramas = []\n",
    "bigramas = nltk.bigrams(palavras_aumentadas)\n",
    "bigramas_frequencia = nltk.FreqDist(bigramas)\n",
    "tabela_bigramas = panda.DataFrame(bigramas_frequencia.most_common(), columns=['word', 'Frequency'])\n",
    "tabela_bigramas['r'] = tabela_bigramas['Frequency'].rank(ascending=False)\n",
    "\n",
    "f, ax = plot.subplots(figsize=(7, 7))\n",
    "ax.set(xscale=\"log\", yscale=\"log\")\n",
    "sea.regplot(\"r\", \"Frequency\", tabela_bigramas, ax=ax, marker=\"*\", scatter_kws={\"s\": 100}, fit_reg = False, color = '#FF8C00')\n"
   ]
  },
  {
   "cell_type": "markdown",
   "metadata": {
    "colab_type": "text",
    "id": "gwjhFbOJjEjA"
   },
   "source": [
    "Não se percebeu diferença significativa em relação ao lab anterior."
   ]
  }
 ],
 "metadata": {
  "colab": {
   "collapsed_sections": [],
   "name": "ri_lab_03",
   "provenance": [],
   "version": "0.3.2"
  },
  "kernelspec": {
   "display_name": "Python 3",
   "language": "python",
   "name": "python3"
  },
  "language_info": {
   "codemirror_mode": {
    "name": "ipython",
    "version": 3
   },
   "file_extension": ".py",
   "mimetype": "text/x-python",
   "name": "python",
   "nbconvert_exporter": "python",
   "pygments_lexer": "ipython3",
   "version": "3.7.1"
  }
 },
 "nbformat": 4,
 "nbformat_minor": 1
}
